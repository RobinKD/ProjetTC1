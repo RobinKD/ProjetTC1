{
 "cells": [
  {
   "cell_type": "markdown",
   "metadata": {},
   "source": [
    "# Projet Otto Kaggle"
   ]
  },
  {
   "cell_type": "code",
   "execution_count": 241,
   "metadata": {},
   "outputs": [],
   "source": [
    "# imports\n",
    "import numpy as np\n",
    "import pandas as pd"
   ]
  },
  {
   "cell_type": "code",
   "execution_count": 242,
   "metadata": {},
   "outputs": [],
   "source": [
    "# Load files \n",
    "panda_dataset = pd.read_csv('train.csv')\n",
    "panda_testset = pd.read_csv('test.csv')\n",
    "dataset = panda_dataset.values\n",
    "dataset = dataset[:,1:]\n",
    "test = panda_testset.values\n",
    "testX = test[:, 1:]"
   ]
  },
  {
   "cell_type": "code",
   "execution_count": 243,
   "metadata": {},
   "outputs": [
    {
     "name": "stdout",
     "output_type": "stream",
     "text": [
      "(61878, 94)\n",
      "(144368, 93)\n"
     ]
    }
   ],
   "source": [
    "print(dataset.shape)\n",
    "print(testX.shape)"
   ]
  },
  {
   "cell_type": "code",
   "execution_count": 244,
   "metadata": {},
   "outputs": [],
   "source": [
    "import sklearn.preprocessing as prep\n",
    "\n",
    "np.random.shuffle(dataset)\n",
    "endTrain = round(0.9 * len(dataset))\n",
    "train = dataset[:endTrain, :]\n",
    "valid = dataset[endTrain:, :]\n",
    "\n",
    "trainy = train[:, -1:].reshape(-1)\n",
    "trainX = train[:, :-1]\n",
    "\n",
    "validy = valid[:, -1:].reshape(-1)\n",
    "validX = valid[:, :-1]\n",
    "\n",
    "def preproc(data):\n",
    "    d = prep.normalize(data, norm='l1', axis=0)\n",
    "    d = prep.scale(d, axis=0)\n",
    "    return d\n",
    "\n",
    "trainX = preproc(trainX)\n",
    "validX = preproc(validX)\n",
    "testX = preproc(testX)\n"
   ]
  },
  {
   "cell_type": "code",
   "execution_count": 245,
   "metadata": {},
   "outputs": [
    {
     "name": "stdout",
     "output_type": "stream",
     "text": [
      "(55690, 93)\n",
      "(6188, 93)\n"
     ]
    }
   ],
   "source": [
    "print(trainX.shape)\n",
    "print(validX.shape)"
   ]
  },
  {
   "cell_type": "code",
   "execution_count": 246,
   "metadata": {},
   "outputs": [],
   "source": [
    "#Evaluation function\n",
    "#Refer to:https://www.kaggle.com/c/otto-group-product-classification-challenge/details/evaluation\n",
    "def evaluation(label,pred_label):\n",
    "    keep_numclass = np.vectorize(lambda w: int(w[-1]))\n",
    "    labels = keep_numclass(label)\n",
    "    num = len(labels)\n",
    "    num_labels = len(pred_label[0])\n",
    "    logloss = 0.0\n",
    "#     print(labels)\n",
    "#     print(pred_label)\n",
    "    for i in range(num):\n",
    "        p = max(min(pred_label[i][labels[i]-1],1-10**(-15)),10**(-15))\n",
    "        logloss += np.log(p)\n",
    "    logloss = -1*logloss/num\n",
    "    return logloss"
   ]
  },
  {
   "cell_type": "code",
   "execution_count": 247,
   "metadata": {},
   "outputs": [],
   "source": [
    "def saveResult(probas, filename = \"submission.csv\"):\n",
    "#     col = np.concatenate((['id'], np.unique(panda_dataset['target'].values)))\n",
    "    col = np.unique(panda_dataset['target'].values)\n",
    "    indices = np.arange(len(probas)).reshape(-1,1)\n",
    "#     submit = np.concatenate((indices, probas), axis=1)\n",
    "    submission = pd.DataFrame(probas, columns=col)\n",
    "    submission.index += 1\n",
    "#     print(submission)\n",
    "    submission.to_csv(filename, index=True, index_label='id')\n",
    "    \n",
    "\n",
    "# prediction = model.predict_proba(test)\n",
    "# saveResult(prediction)"
   ]
  },
  {
   "cell_type": "code",
   "execution_count": 248,
   "metadata": {},
   "outputs": [],
   "source": [
    "from sklearn.ensemble import RandomForestClassifier\n",
    "\n",
    "def classif_randomForest(trainX, trainy, validX, validy, testX, name='randomForest_submission.csv'):\n",
    "    model = RandomForestClassifier(n_estimators=100, n_jobs=-1, max_features=5)\n",
    "    model.fit(trainX, trainy)\n",
    "    print(\"Model trained\")\n",
    "    \n",
    "#     pred_valid_normal = model.predict(validX)\n",
    "    pred_valid = model.predict_proba(validX)\n",
    "    print(\"Evaluation (kaggle) of validation set :\", evaluation(validy, pred_valid))\n",
    "#     print(mtc.accuracy_score(validy, pred_valid_normal))\n",
    "    \n",
    "    testProbas = model.predict_proba(testX)\n",
    "    saveResult(testProbas, name)\n"
   ]
  },
  {
   "cell_type": "code",
   "execution_count": 249,
   "metadata": {},
   "outputs": [],
   "source": [
    "from sklearn.svm import SVC\n",
    "\n",
    "def classif_SVM(trainX, trainy, validX, validy, testX, name='svm_submission.csv'):\n",
    "    model = SVC(probability=True)\n",
    "    model.fit(trainX, trainy)\n",
    "    print(\"Model trained\")\n",
    "    \n",
    "#     pred_valid_normal = model.predict(validX)\n",
    "    pred_valid = model.predict_proba(validX)\n",
    "    print(\"Evaluation (kaggle) of validation set :\", evaluation(validy, pred_valid))\n",
    "#     print(mtc.accuracy_score(validy, pred_valid_normal))\n",
    "    \n",
    "    testProbas = model.predict_proba(testX)\n",
    "    saveResult(testProbas, name)"
   ]
  },
  {
   "cell_type": "code",
   "execution_count": 250,
   "metadata": {
    "scrolled": true
   },
   "outputs": [
    {
     "name": "stdout",
     "output_type": "stream",
     "text": [
      "Model trained\n",
      "Evaluation (kaggle) of validation set : 0.6305061479630596\n"
     ]
    }
   ],
   "source": [
    "classif_randomForest(trainX, trainy, validX, validy, testX)"
   ]
  },
  {
   "cell_type": "code",
   "execution_count": 223,
   "metadata": {},
   "outputs": [
    {
     "name": "stdout",
     "output_type": "stream",
     "text": [
      "Model trained\n",
      "Evaluation (kaggle) of validation set : 0.5720470377319379\n"
     ]
    }
   ],
   "source": [
    "classif_SVM(trainX, trainy, validX, validy, testX)"
   ]
  },
  {
   "cell_type": "code",
   "execution_count": 271,
   "metadata": {},
   "outputs": [],
   "source": [
    "def test_RF(trainX, trainy, validX, validy):\n",
    "    eval_valid_nbTree = [[],[]]\n",
    "    eval_valid_nbFeature = [[],[]]\n",
    "    for i in range(1, 200, 20):\n",
    "        nb_trees = np.random.randint(i, i + 20)\n",
    "        model = RandomForestClassifier(n_estimators=nb_trees, n_jobs=-1)\n",
    "        model.fit(trainX, trainy)\n",
    "        pred_valid = model.predict_proba(validX)\n",
    "        eval_valid_nbTree[0].append(nb_trees)\n",
    "        eval_valid_nbTree[1].append(evaluation(validy, pred_valid))\n",
    "    for j in range(1, 10, 2):\n",
    "        nb_feat = np.random.randint(j, j + 2)\n",
    "        model = RandomForestClassifier(n_estimators=50, n_jobs=-1, max_features=nb_feat)\n",
    "        model.fit(trainX, trainy)\n",
    "        pred_valid = model.predict_proba(validX)\n",
    "        eval_valid_nbFeature[0].append(nb_feat)\n",
    "        eval_valid_nbFeature[1].append(evaluation(validy, pred_valid))\n",
    "    return eval_valid_nbTree, eval_valid_nbFeature"
   ]
  },
  {
   "cell_type": "code",
   "execution_count": 272,
   "metadata": {},
   "outputs": [],
   "source": [
    "score_tree, score_maxFeat = test_RF(trainX, trainy, validX, validy)"
   ]
  },
  {
   "cell_type": "code",
   "execution_count": 273,
   "metadata": {},
   "outputs": [
    {
     "data": {
      "image/png": "[encoded data removed]",
      "text/plain": [
       "<Figure size 432x288 with 1 Axes>"
      ]
     },
     "metadata": {},
     "output_type": "display_data"
    },
    {
     "data": {
      "image/png": "[encoded data removed]",
      "text/plain": [
       "<Figure size 432x288 with 1 Axes>"
      ]
     },
     "metadata": {},
     "output_type": "display_data"
    }
   ],
   "source": [
    "import matplotlib.pyplot as plt\n",
    "\n",
    "plt.plot(score_tree[0], score_tree[1], \"r\", label='train (all samples)')\n",
    "plt.title(\"Score different parameters RF\")\n",
    "plt.xlabel(\"Value of parameter\")\n",
    "plt.ylabel(\"Evaluation on valid set\")\n",
    "plt.legend()\n",
    "plt.ylim((0, 1))\n",
    "plt.show()\n",
    "\n",
    "plt.plot(score_maxFeat[0], score_maxFeat[1], \"g\", label='valid (all samples)')\n",
    "plt.title(\"Score different parameters RF\")\n",
    "plt.xlabel(\"Value of parameter\")\n",
    "plt.ylabel(\"Evaluation on valid set\")\n",
    "plt.legend()\n",
    "plt.ylim((0, 1))\n",
    "plt.show()"
   ]
  },
  {
   "cell_type": "code",
   "execution_count": null,
   "metadata": {},
   "outputs": [],
   "source": []
  }
 ],
 "metadata": {
  "kernelspec": {
   "display_name": "Python 3",
   "language": "python",
   "name": "python3"
  },
  "language_info": {
   "codemirror_mode": {
    "name": "ipython",
    "version": 3
   },
   "file_extension": ".py",
   "mimetype": "text/x-python",
   "name": "python",
   "nbconvert_exporter": "python",
   "pygments_lexer": "ipython3",
   "version": "3.6.5"
  }
 },
 "nbformat": 4,
 "nbformat_minor": 2
}
